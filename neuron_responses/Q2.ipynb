{
 "cells": [
  {
   "cell_type": "code",
   "execution_count": 1,
   "metadata": {
    "collapsed": true
   },
   "outputs": [],
   "source": [
    "import numpy as np\n",
    "import scipy.io\n",
    "import matplotlib.pyplot as plt\n",
    "from nengo.utils.matplotlib import rasterplot\n",
    "\n",
    "%matplotlib inline"
   ]
  },
  {
   "cell_type": "code",
   "execution_count": 2,
   "metadata": {
    "collapsed": true
   },
   "outputs": [],
   "source": [
    "af = scipy.io.loadmat(\"c1p8.mat\")\n",
    "stim = af[\"rho\"]"
   ]
  },
  {
   "cell_type": "code",
   "execution_count": 3,
   "metadata": {
    "collapsed": true
   },
   "outputs": [],
   "source": [
    "def synthetic_neuron(drive):\n",
    "    \"\"\"\n",
    "    Simulates a mock neuron with a time step of 1ms.\n",
    "    Arguments:\n",
    "    drive - input to the neuron (expect zero mean; SD=1)\n",
    "    Returns:\n",
    "    rho - response function (0=non-spike and 1=spike at each time step)\n",
    "    \"\"\"\n",
    "    dt = .001\n",
    "    T = dt*len(drive)\n",
    "    time = np.arange(0, T, dt)\n",
    "    lagSteps = .02/dt\n",
    "    drive = np.concatenate((np.zeros(lagSteps), drive[lagSteps:]))\n",
    "    system = scipy.signal.lti([1], [.03**2, 2*.03, 1])\n",
    "    _, L, _ = scipy.signal.lsim(system, drive[:,np.newaxis], time)\n",
    "    rate = np.divide(30, 1 + np.exp(50*(.05-L)))\n",
    "    spikeProb = rate*dt\n",
    "    return np.random.rand(len(spikeProb)) < spikeProb"
   ]
  },
  {
   "cell_type": "code",
   "execution_count": 4,
   "metadata": {
    "collapsed": false
   },
   "outputs": [
    {
     "data": {
      "text/plain": [
       "['stim', '__version__', '__header__', 'rho', '__globals__']"
      ]
     },
     "execution_count": 4,
     "metadata": {},
     "output_type": "execute_result"
    }
   ],
   "source": [
    "af.keys()"
   ]
  }
 ],
 "metadata": {
  "kernelspec": {
   "display_name": "Python 2",
   "language": "python",
   "name": "python2"
  },
  "language_info": {
   "codemirror_mode": {
    "name": "ipython",
    "version": 2
   },
   "file_extension": ".py",
   "mimetype": "text/x-python",
   "name": "python",
   "nbconvert_exporter": "python",
   "pygments_lexer": "ipython2",
   "version": "2.7.6"
  }
 },
 "nbformat": 4,
 "nbformat_minor": 0
}
