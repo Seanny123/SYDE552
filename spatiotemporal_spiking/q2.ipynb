{
 "cells": [
  {
   "cell_type": "code",
   "execution_count": 2,
   "metadata": {
    "collapsed": false
   },
   "outputs": [],
   "source": [
    "import numpy as np\n",
    "import matplotlib.pyplot as plt\n",
    "%matplotlib inline"
   ]
  },
  {
   "cell_type": "code",
   "execution_count": 6,
   "metadata": {
    "collapsed": false
   },
   "outputs": [
    {
     "data": {
      "image/png": "[encoded data removed]",
      "text/plain": [
       "<matplotlib.figure.Figure at 0x7f76c7716690>"
      ]
     },
     "metadata": {},
     "output_type": "display_data"
    }
   ],
   "source": [
    "def nernst(out_conc):\n",
    "    in_conc = 10\n",
    "    n = 1\n",
    "    RT_F = 27e-3\n",
    "    E = RT_F/n*np.log(out_conc/in_conc)\n",
    "    return E\n",
    "    \n",
    "out_conc = np.linspace(1, 200, 500)\n",
    "plt.plot(nernst(out_conc))\n",
    "plt.title(\"Potential as a Function of Ion Concentration\")\n",
    "plt.ylabel(\"Nernst Potential (mV)\")\n",
    "plt.xlabel(\"External Concentration of Sodium Ions (mM/l)\")\n",
    "plt.savefig(\"nernst\")"
   ]
  },
  {
   "cell_type": "code",
   "execution_count": 38,
   "metadata": {
    "collapsed": true
   },
   "outputs": [],
   "source": [
    "class SpikingLif(object):\n",
    "    def __init__(self, dt=0.001):\n",
    "        self.refac_time = 0.0\n",
    "        self.t_ref = 0.002\n",
    "        self.refac = True\n",
    "        self.dt = dt\n",
    "        \n",
    "        self.resist = 1e6\n",
    "        self.cap = 10e-9\n",
    "        self.k_pot = -0.075\n",
    "        self.leak_pot = -0.065\n",
    "        self.membrane_area = 0.1\n",
    "        \n",
    "        \n",
    "        self.potential = 0.0\n",
    "        self.reset_pot = -0.070\n",
    "        self.spk_pot = -0.055\n",
    "        \n",
    "        self.adapt_cond = 0.0\n",
    "        self.t_adapt = 0.1\n",
    "        self.adapt_inc = 1e-9\n",
    "\n",
    "    def spike(self, current):\n",
    "        if(self.refac == False):\n",
    "            # use that differential equation\n",
    "            dV = (\n",
    "                    1/(self.resist*self.cap) * (self.leak_pot + current*self.resist*self.membrane_area - self.potential) -\n",
    "                    self.adapt_cond/self.cap*(self.potential - self.k_pot)\n",
    "            )*self.dt\n",
    "\n",
    "            self.potential += dV\n",
    "            \n",
    "            dg = -self.adapt_cond / self.t_adapt * self.dt\n",
    "            self.adapt_cond += dg\n",
    "            \n",
    "            # If we've reached the threshold, spike\n",
    "            if(self.potential >= self.spk_pot):\n",
    "                # start the refactory period and reset the potential\n",
    "                self.refac = True\n",
    "                self.potential = self.reset_pot\n",
    "                return [2.0, self.adapt_cond]\n",
    "            return [self.potential, self.adapt_cond]\n",
    "        else:\n",
    "            # increment the refactory period\n",
    "            self.refac_time += self.dt\n",
    "            if(self.refac_time >= self.t_ref):\n",
    "                # if we've reached the maximum refactory period, reset it\n",
    "                self.refac = False\n",
    "                self.refac_time = 0.0\n",
    "                \n",
    "                # also increase the spike adaptation\n",
    "                self.adapt_cond += self.adapt_inc\n",
    "                \n",
    "            return [self.reset_pot, self.adapt_cond]"
   ]
  },
  {
   "cell_type": "code",
   "execution_count": 39,
   "metadata": {
    "collapsed": false
   },
   "outputs": [],
   "source": [
    "input_current = 1.1e-9\n",
    "\n",
    "step = 5e-4\n",
    "t_range = np.arange(0, 0.5, step)\n",
    "spk_lif = SpikingLif(dt=step)\n",
    "spk_res = []\n",
    "\n",
    "for t in list(t_range):\n",
    "    spk_res.append(np.array(spk_lif.spike(input_current)))\n",
    "spk_res = np.array(spk_res)"
   ]
  },
  {
   "cell_type": "code",
   "execution_count": 49,
   "metadata": {
    "collapsed": false
   },
   "outputs": [
    {
     "data": {
      "text/plain": [
       "[<matplotlib.lines.Line2D at 0x7f76c6fb63d0>,\n",
       " <matplotlib.lines.Line2D at 0x7f76c6fb6110>]"
      ]
     },
     "execution_count": 49,
     "metadata": {},
     "output_type": "execute_result"
    },
    {
     "data": {
      "image/png": "[encoded data removed]",
      "text/plain": [
       "<matplotlib.figure.Figure at 0x7f76c6f7a2d0>"
      ]
     },
     "metadata": {},
     "output_type": "display_data"
    }
   ],
   "source": [
    "plt.plot(t_range[:10], spk_res[:10, :])"
   ]
  },
  {
   "cell_type": "code",
   "execution_count": 52,
   "metadata": {
    "collapsed": false
   },
   "outputs": [
    {
     "data": {
      "text/plain": [
       "[<matplotlib.lines.Line2D at 0x7f76c6f19f50>]"
      ]
     },
     "execution_count": 52,
     "metadata": {},
     "output_type": "execute_result"
    },
    {
     "data": {
      "image/png": "[encoded data removed]",
      "text/plain": [
       "<matplotlib.figure.Figure at 0x7f76c6f48150>"
      ]
     },
     "metadata": {},
     "output_type": "display_data"
    }
   ],
   "source": [
    "plt.plot(spk_res[:, 1])"
   ]
  }
 ],
 "metadata": {
  "kernelspec": {
   "display_name": "Python 2",
   "language": "python",
   "name": "python2"
  },
  "language_info": {
   "codemirror_mode": {
    "name": "ipython",
    "version": 2
   },
   "file_extension": ".py",
   "mimetype": "text/x-python",
   "name": "python",
   "nbconvert_exporter": "python",
   "pygments_lexer": "ipython2",
   "version": "2.7.6"
  }
 },
 "nbformat": 4,
 "nbformat_minor": 0
}
