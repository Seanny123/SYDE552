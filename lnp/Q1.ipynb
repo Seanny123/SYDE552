{
 "cells": [
  {
   "cell_type": "code",
   "execution_count": 9,
   "metadata": {
    "collapsed": true
   },
   "outputs": [],
   "source": [
    "import numpy as np\n",
    "import matplotlib.pyplot as plt\n",
    "\n",
    "%matplotlib inline"
   ]
  },
  {
   "cell_type": "code",
   "execution_count": 10,
   "metadata": {
    "collapsed": true
   },
   "outputs": [],
   "source": [
    "def ref_poisson(rate, t_len, refac=5):\n",
    "    t = 0\n",
    "    spikes = []\n",
    "    x_rand = np.random.uniform\n",
    "    \n",
    "    while t < t_len:\n",
    "        \n",
    "        t -= np.log(x_rand())/rate\n",
    "        spikes.append(t)\n",
    "        t += refac\n",
    "    return np.array(spikes)        "
   ]
  },
  {
   "cell_type": "code",
   "execution_count": 11,
   "metadata": {
    "collapsed": true
   },
   "outputs": [],
   "source": [
    "spk_res = []\n",
    "for _ in range(50):\n",
    "    spk_res.append(ref_poisson(25.0/1000.0, 10*1000))"
   ]
  },
  {
   "cell_type": "code",
   "execution_count": 14,
   "metadata": {
    "collapsed": false
   },
   "outputs": [
    {
     "data": {
      "text/plain": [
       "(26,)"
      ]
     },
     "execution_count": 14,
     "metadata": {},
     "output_type": "execute_result"
    }
   ],
   "source": [
    "tmp = spk_res[0]\n",
    "tmp[tmp < 1000].shape"
   ]
  },
  {
   "cell_type": "code",
   "execution_count": 19,
   "metadata": {
    "collapsed": false
   },
   "outputs": [
    {
     "data": {
      "image/png": "[encoded data removed]",
      "text/plain": [
       "<matplotlib.figure.Figure at 0x7f3284224110>"
      ]
     },
     "metadata": {},
     "output_type": "display_data"
    }
   ],
   "source": [
    "color_cycle = plt.rcParams['axes.color_cycle']\n",
    "\n",
    "# plot the spike raster\n",
    "for z_i, ze in enumerate(list(spk_res)):\n",
    "    color = [color_cycle[z_i % len(color_cycle)]]\n",
    "    plt.eventplot(ze[ze < 1000], colors=color, lineoffsets=[1*z_i])\n",
    "plt.xlim(0, 1000)\n",
    "plt.ylim(-0.5, 1*len(spk_res))\n",
    "plt.ylabel(\"Trial\")\n",
    "plt.xlabel(\"Time (s)\")\n",
    "plt.title(\"Raster Plot\")\n",
    "plt.savefig(\"spike-raster\")"
   ]
  },
  {
   "cell_type": "code",
   "execution_count": 21,
   "metadata": {
    "collapsed": false
   },
   "outputs": [],
   "source": [
    "# get the firing rate\n",
    "bins = np.arange(0, 0.505, 0.01)\n",
    "multi_trial_rate = np.zeros((bins.shape[0] - 1, len(spk_res)))\n",
    "for z_i, s_r in enumerate(spk_res):\n",
    "    filt = s_r[s_r < 500]\n",
    "    multi_trial_rate[:, z_i] = np.histogram(filt, bins=bins)[0]"
   ]
  },
  {
   "cell_type": "code",
   "execution_count": null,
   "metadata": {
    "collapsed": true
   },
   "outputs": [],
   "source": []
  }
 ],
 "metadata": {
  "kernelspec": {
   "display_name": "Python 2",
   "language": "python",
   "name": "python2"
  },
  "language_info": {
   "codemirror_mode": {
    "name": "ipython",
    "version": 2
   },
   "file_extension": ".py",
   "mimetype": "text/x-python",
   "name": "python",
   "nbconvert_exporter": "python",
   "pygments_lexer": "ipython2",
   "version": "2.7.6"
  }
 },
 "nbformat": 4,
 "nbformat_minor": 0
}
